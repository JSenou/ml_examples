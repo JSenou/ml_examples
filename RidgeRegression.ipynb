{
 "cells": [
  {
   "cell_type": "markdown",
   "metadata": {},
   "source": [
    "# Ridge Regression with Scikit-Learn\n",
    "\n",
    "### NOTE:  if you are viewing this notebook on github and the LaTeX equations are not rendering properly, please try viewing this notebook instead using nbviewer at:  http://nbviewer.jupyter.org/github/dpshenoy/ml_examples/blob/master/RidgeRegression.ipynb?flush_cache=true \n",
    "\n",
    "### This example elaborates on:  http://scikit-learn.org/stable/modules/linear_model.html#ridge-regression \n",
    "\n",
    "### In this example I use the diabetes data set to show how RidgeRegression helps mitigate the effect of collinearity in the design matrix $X$.\n",
    "As in regular linear regression, we model the target values $y_i$ with $\\hat{y}_i$ values that are linear combinations of input variables.  For example, if there are 3 features, then: \n",
    "\n",
    "$$\\hat{y}_i(w,X_{ij}) = w_0 + w_1X_{i0} + w_2X_{i1} + w_3X_{i2}$$\n",
    "\n",
    "Or in matrix form:\n",
    "\n",
    "$$\n",
    "\\begin{eqnarray*}\n",
    "\\hat{y} & = & Xw + w_0 \\\\ \\\\\n",
    "\\begin{pmatrix} \\hat{y}_1 \\\\ \\hat{y}_2 \\\\ \\vdots \\end{pmatrix} & = &  \\begin{pmatrix} X_{00} & X_{01} & X_{02} \\\\ X_{10} & X_{11} & X_{12} \\\\ \\vdots & \\vdots \\end{pmatrix} \\begin{pmatrix} w_1 \\\\ w_2 \\\\ w_3 \\end{pmatrix} + \\begin{pmatrix} w_0 \\\\ w_0 \\\\ \\vdots \\end{pmatrix}\n",
    "\\end{eqnarray*}\n",
    "$$\n",
    "\n",
    "Linear regression seeks the one vector of coefficients $w$ that minimizes the sum of the squared differences between the linear model $\\hat{y}$ and the observed $y$:\n",
    "\n",
    "$$ \\sum_{i=1}^N (y_i - (Xw))^2 $$\n",
    "\n",
    "Quoting the Scikit-learn page linked above:  \n",
    "\n",
    "\"[C]oefficient estimates for Ordinary Least Squares rely on the independence of the model terms. When terms are correlated and the columns of the design matrix $X$ have an approximate linear dependence, the design matrix becomes close to singular and as a result, the least-squares estimate becomes highly sensitive to random errors in the observed response, producing a large variance. This situation of multicollinearity can arise, for example, when data are collected without an experimental design.\"\n",
    "\n",
    "To address this problem, RidgeRegression adds a \"shrinkage\" parameter $\\alpha$ to the minimization:\n",
    "\n",
    "$$ \\sum_{i=1}^N (y_i - (Xw))^2 + \\alpha\\sum_{j=1}^p w_j^2 $$\n",
    "\n",
    "As $\\alpha$ is increased, the sizes of the $w_j$ decrease; this can suppress the problem of collinearity in matrix $X$.  This example will have 3 features ($p$ = 3), with two of the features purposely rigged to be highly correlated.  Thus two of the columns of $X$ will be approximately collinear, allowing the effect of varying $\\alpha$ to be observed."
   ]
  },
  {
   "cell_type": "code",
   "execution_count": 1,
   "metadata": {
    "collapsed": false
   },
   "outputs": [],
   "source": [
    "import pandas as pd ; import numpy as np ; import random ; from datetime import datetime\n",
    "import matplotlib.pyplot as plt\n",
    "%matplotlib inline"
   ]
  },
  {
   "cell_type": "markdown",
   "metadata": {},
   "source": [
    "## $\\S$ 1 - Read in the example data"
   ]
  },
  {
   "cell_type": "code",
   "execution_count": 2,
   "metadata": {
    "collapsed": false
   },
   "outputs": [
    {
     "data": {
      "text/plain": [
       "(442, 11)"
      ]
     },
     "execution_count": 2,
     "metadata": {},
     "output_type": "execute_result"
    }
   ],
   "source": [
    "# Read in the NC State diabetes data set.  This is the same one available from\n",
    "# sklearn.datasets.load_diabetes(), but I prefer to get it from the original page\n",
    "# linked in the sklearn docs:  http://www4.stat.ncsu.edu/~boos/var.select/diabetes.html\n",
    "# Using that instead, when I read it into a Pandas DataFrame, I get column headings.\n",
    "df = pd.read_table('diabetes.rwrite1.txt',delimiter=' ')\n",
    "df.shape"
   ]
  },
  {
   "cell_type": "code",
   "execution_count": 3,
   "metadata": {
    "collapsed": false
   },
   "outputs": [
    {
     "data": {
      "text/html": [
       "<div>\n",
       "<table border=\"1\" class=\"dataframe\">\n",
       "  <thead>\n",
       "    <tr style=\"text-align: right;\">\n",
       "      <th></th>\n",
       "      <th>age</th>\n",
       "      <th>sex</th>\n",
       "      <th>bmi</th>\n",
       "      <th>map</th>\n",
       "      <th>tc</th>\n",
       "      <th>ldl</th>\n",
       "      <th>hdl</th>\n",
       "      <th>tch</th>\n",
       "      <th>ltg</th>\n",
       "      <th>glu</th>\n",
       "      <th>y</th>\n",
       "    </tr>\n",
       "  </thead>\n",
       "  <tbody>\n",
       "    <tr>\n",
       "      <th>0</th>\n",
       "      <td>0.038076</td>\n",
       "      <td>0.050680</td>\n",
       "      <td>0.061696</td>\n",
       "      <td>0.021872</td>\n",
       "      <td>-0.044223</td>\n",
       "      <td>-0.034821</td>\n",
       "      <td>-0.043401</td>\n",
       "      <td>-0.002592</td>\n",
       "      <td>0.019908</td>\n",
       "      <td>-0.017646</td>\n",
       "      <td>151</td>\n",
       "    </tr>\n",
       "    <tr>\n",
       "      <th>1</th>\n",
       "      <td>-0.001882</td>\n",
       "      <td>-0.044642</td>\n",
       "      <td>-0.051474</td>\n",
       "      <td>-0.026328</td>\n",
       "      <td>-0.008449</td>\n",
       "      <td>-0.019163</td>\n",
       "      <td>0.074412</td>\n",
       "      <td>-0.039493</td>\n",
       "      <td>-0.068330</td>\n",
       "      <td>-0.092204</td>\n",
       "      <td>75</td>\n",
       "    </tr>\n",
       "    <tr>\n",
       "      <th>2</th>\n",
       "      <td>0.085299</td>\n",
       "      <td>0.050680</td>\n",
       "      <td>0.044451</td>\n",
       "      <td>-0.005671</td>\n",
       "      <td>-0.045599</td>\n",
       "      <td>-0.034194</td>\n",
       "      <td>-0.032356</td>\n",
       "      <td>-0.002592</td>\n",
       "      <td>0.002864</td>\n",
       "      <td>-0.025930</td>\n",
       "      <td>141</td>\n",
       "    </tr>\n",
       "  </tbody>\n",
       "</table>\n",
       "</div>"
      ],
      "text/plain": [
       "        age       sex       bmi       map        tc       ldl       hdl  \\\n",
       "0  0.038076  0.050680  0.061696  0.021872 -0.044223 -0.034821 -0.043401   \n",
       "1 -0.001882 -0.044642 -0.051474 -0.026328 -0.008449 -0.019163  0.074412   \n",
       "2  0.085299  0.050680  0.044451 -0.005671 -0.045599 -0.034194 -0.032356   \n",
       "\n",
       "        tch       ltg       glu    y  \n",
       "0 -0.002592  0.019908 -0.017646  151  \n",
       "1 -0.039493 -0.068330 -0.092204   75  \n",
       "2 -0.002592  0.002864 -0.025930  141  "
      ]
     },
     "execution_count": 3,
     "metadata": {},
     "output_type": "execute_result"
    }
   ],
   "source": [
    "df.head(3)"
   ]
  },
  {
   "cell_type": "code",
   "execution_count": 4,
   "metadata": {
    "collapsed": false
   },
   "outputs": [
    {
     "data": {
      "text/plain": [
       "(array([  1.,   4.,   7.,   9.,  20.,  28.,  42.,  40.,  57.,  54.,  38.,\n",
       "         41.,  32.,  21.,  14.,  14.,   8.,   3.,   4.,   3.,   2.]),\n",
       " array([-0.12678067, -0.11341427, -0.10004787, -0.08668147, -0.07331507,\n",
       "        -0.05994867, -0.04658227, -0.03321588, -0.01984948, -0.00648308,\n",
       "         0.00688332,  0.02024972,  0.03361612,  0.04698252,  0.06034892,\n",
       "         0.07371532,  0.08708172,  0.10044812,  0.11381452,  0.12718091,\n",
       "         0.14054731,  0.15391371]),\n",
       " <a list of 21 Patch objects>)"
      ]
     },
     "execution_count": 4,
     "metadata": {},
     "output_type": "execute_result"
    },
    {
     "data": {
      "image/png": "[encoded data removed]",
      "text/plain": [
       "<matplotlib.figure.Figure at 0x1146e4a90>"
      ]
     },
     "metadata": {},
     "output_type": "display_data"
    }
   ],
   "source": [
    "# Note that the data have been normalized so that for each column the mean is zero and the\n",
    "# length is 1.  (If you want to manually normalize the original data yourself, go to  \n",
    "# http://www4.stat.ncsu.edu/~boos/var.select/diabetes.tab.txt to get the original data.\n",
    "# For each column, subtract its mean and then divide each column by its length (i.e., sqrt \n",
    "# of the sum of its squared values).  That produces the normalized values shown above.\n",
    "\n",
    "# Here's a quick little histogram of one column, to illustrate the normalization\n",
    "plt.rcParams[\"figure.figsize\"] = (18,4)\n",
    "plt.hist(df.tc,bins=21)"
   ]
  },
  {
   "cell_type": "code",
   "execution_count": 5,
   "metadata": {
    "collapsed": true
   },
   "outputs": [],
   "source": [
    "# declare a function for plotting a correlation matrix for a Pandas DataFrame\n",
    "def plot_corr(df, size):\n",
    "    \"\"\"\n",
    "    Plots correlation matrix for each pair of columns.\n",
    "    Blue-to-red runs from not-corr (or 0) to correlated (or 1)\n",
    "    \"\"\"\n",
    "    corr = df.corr()\n",
    "    fig, ax = plt.subplots(figsize = (size,size))\n",
    "    cax = ax.matshow(corr,cmap='seismic')\n",
    "    fig.colorbar(cax,fraction=0.0458, pad=0.04)\n",
    "    plt.xticks(np.arange(len(corr.columns)), corr.columns)\n",
    "    plt.yticks(np.arange(len(corr.columns)), corr.columns)"
   ]
  },
  {
   "cell_type": "code",
   "execution_count": 6,
   "metadata": {
    "collapsed": false
   },
   "outputs": [
    {
     "data": {
      "image/png": "[encoded data removed]",
      "text/plain": [
       "<matplotlib.figure.Figure at 0x11490e438>"
      ]
     },
     "metadata": {},
     "output_type": "display_data"
    }
   ],
   "source": [
    "# after some playing around, I choose to use columns tc and hdl since \n",
    "# they are one of the least correlated pairings of features.  \n",
    "# Here's a plot for features tc and hdl (and the target y).\n",
    "plot_corr(df[['tc','hdl','y']],5)"
   ]
  },
  {
   "cell_type": "code",
   "execution_count": 7,
   "metadata": {
    "collapsed": false
   },
   "outputs": [
    {
     "data": {
      "image/png": "[encoded data removed]",
      "text/plain": [
       "<matplotlib.figure.Figure at 0x11475bf98>"
      ]
     },
     "metadata": {},
     "output_type": "display_data"
    }
   ],
   "source": [
    "# also, make a scatter plot of tc and hdl against each other, \n",
    "# which is another way to assess correlation more visually.\n",
    "def scat_corr(ax,feat1,feat2,lab1,lab2,col):\n",
    "    '''\n",
    "    Scatter plots feat1 against feat1 for \n",
    "    visually assessing correlation\n",
    "    '''\n",
    "    ax.scatter(feat1,feat2,color=col,s=5)\n",
    "    ax.set_xlabel(lab1)\n",
    "    ax.set_ylabel(lab2)\n",
    "\n",
    "plt.rcParams[\"figure.figsize\"] = (5,5)\n",
    "fig, ax1 = plt.subplots()\n",
    "scat_corr(ax1,df.tc,df.hdl,'df.tc','df.hdl','k')"
   ]
  },
  {
   "cell_type": "code",
   "execution_count": 8,
   "metadata": {
    "collapsed": false
   },
   "outputs": [
    {
     "data": {
      "text/html": [
       "<div>\n",
       "<table border=\"1\" class=\"dataframe\">\n",
       "  <thead>\n",
       "    <tr style=\"text-align: right;\">\n",
       "      <th></th>\n",
       "      <th>tc</th>\n",
       "      <th>hdl</th>\n",
       "      <th>y</th>\n",
       "    </tr>\n",
       "  </thead>\n",
       "  <tbody>\n",
       "    <tr>\n",
       "      <th>0</th>\n",
       "      <td>-0.044223</td>\n",
       "      <td>-0.043401</td>\n",
       "      <td>151</td>\n",
       "    </tr>\n",
       "    <tr>\n",
       "      <th>1</th>\n",
       "      <td>-0.008449</td>\n",
       "      <td>0.074412</td>\n",
       "      <td>75</td>\n",
       "    </tr>\n",
       "    <tr>\n",
       "      <th>2</th>\n",
       "      <td>-0.045599</td>\n",
       "      <td>-0.032356</td>\n",
       "      <td>141</td>\n",
       "    </tr>\n",
       "    <tr>\n",
       "      <th>3</th>\n",
       "      <td>0.012191</td>\n",
       "      <td>-0.036038</td>\n",
       "      <td>206</td>\n",
       "    </tr>\n",
       "    <tr>\n",
       "      <th>4</th>\n",
       "      <td>0.003935</td>\n",
       "      <td>0.008142</td>\n",
       "      <td>135</td>\n",
       "    </tr>\n",
       "  </tbody>\n",
       "</table>\n",
       "</div>"
      ],
      "text/plain": [
       "         tc       hdl    y\n",
       "0 -0.044223 -0.043401  151\n",
       "1 -0.008449  0.074412   75\n",
       "2 -0.045599 -0.032356  141\n",
       "3  0.012191 -0.036038  206\n",
       "4  0.003935  0.008142  135"
      ]
     },
     "execution_count": 8,
     "metadata": {},
     "output_type": "execute_result"
    }
   ],
   "source": [
    "# get rid of all columns other than tc, hdl and y\n",
    "for col in ['age', 'sex', 'bmi', 'map', 'ldl', 'tch', 'ltg', 'glu']:  del df[col]\n",
    "df.head(5)"
   ]
  },
  {
   "cell_type": "markdown",
   "metadata": {},
   "source": [
    "## $\\S$ 2 - Collinearity:  Artifically add a correlated feature.\n",
    "###  Pretend we had bad experimental design:  We recorded another blood serum measurement called \"zdl\".  It turns out that \"zdl\" measures the same quantity measured by an hdl measurement, with the only difference being that zdl is reported in different units.  Pretend the measurement of zdl is done using somewhat different chemistry or equipment.  Therefore rescaling the zdl measurement into hdl units won't reproduce the *exact* same hdl value that was measured for a patient.  So the correlation between our recorded hdl and zdl values is not completely 100%, but it is very high.  Therefore the assumption of independence of the features needed for regular linear regression is violated."
   ]
  },
  {
   "cell_type": "code",
   "execution_count": 9,
   "metadata": {
    "collapsed": false
   },
   "outputs": [],
   "source": [
    "# Since the hdl measurements are already normalized, it doesn't matter what the scaling \n",
    "# factor between hdl and \"zdl\" is.  Instead, I just fake \"zdl\" measurements by adding \n",
    "# some pseudorandom noise onto the already normalized hdl values.\n",
    "np.random.seed(datetime.now().microsecond)\n",
    "df['zdl'] = df['hdl'] + np.random.uniform(-0.005, 0.005, len(df.tc))"
   ]
  },
  {
   "cell_type": "code",
   "execution_count": 10,
   "metadata": {
    "collapsed": false
   },
   "outputs": [
    {
     "data": {
      "image/png": "[encoded data removed]",
      "text/plain": [
       "<matplotlib.figure.Figure at 0x114799b70>"
      ]
     },
     "metadata": {},
     "output_type": "display_data"
    }
   ],
   "source": [
    "# Show that hdl and zdl are highly correlated\n",
    "plot_corr(df,5)"
   ]
  },
  {
   "cell_type": "code",
   "execution_count": 11,
   "metadata": {
    "collapsed": false
   },
   "outputs": [
    {
     "data": {
      "image/png": "[encoded data removed]",
      "text/plain": [
       "<matplotlib.figure.Figure at 0x1177a61d0>"
      ]
     },
     "metadata": {},
     "output_type": "display_data"
    }
   ],
   "source": [
    "# and also show the correlation with a scatter plot\n",
    "plt.rcParams[\"figure.figsize\"] = (5,5)\n",
    "fig, ax1 = plt.subplots(1,1)\n",
    "scat_corr(ax1,df.hdl,df.zdl,'df.hdl','df.zdl','k')"
   ]
  },
  {
   "cell_type": "code",
   "execution_count": 12,
   "metadata": {
    "collapsed": false
   },
   "outputs": [
    {
     "data": {
      "text/plain": [
       "(442, 3)"
      ]
     },
     "execution_count": 12,
     "metadata": {},
     "output_type": "execute_result"
    }
   ],
   "source": [
    "# for ease of reading below, form matrix X-- each column is one feature\n",
    "X = df[ ['tc','hdl','zdl'] ].values\n",
    "X.shape"
   ]
  },
  {
   "cell_type": "code",
   "execution_count": 13,
   "metadata": {
    "collapsed": false
   },
   "outputs": [
    {
     "data": {
      "text/plain": [
       "(442,)"
      ]
     },
     "execution_count": 13,
     "metadata": {},
     "output_type": "execute_result"
    }
   ],
   "source": [
    "# form vector y of the target\n",
    "y = df['y'].values\n",
    "y.shape"
   ]
  },
  {
   "cell_type": "code",
   "execution_count": 14,
   "metadata": {
    "collapsed": false
   },
   "outputs": [
    {
     "data": {
      "text/plain": [
       "(array([[-0.0442235 , -0.04340085, -0.04560615],\n",
       "        [-0.00844872,  0.07441156,  0.07412918],\n",
       "        [-0.04559945, -0.03235593, -0.02856387],\n",
       "        [ 0.01219057, -0.03603757, -0.03644626],\n",
       "        [ 0.00393485,  0.00814208,  0.01223068]]),\n",
       " array([151,  75, 141, 206, 135]))"
      ]
     },
     "execution_count": 14,
     "metadata": {},
     "output_type": "execute_result"
    }
   ],
   "source": [
    "# a peek at the first few rows to compare to the data frame\n",
    "X[:5], y[:5]"
   ]
  },
  {
   "cell_type": "markdown",
   "metadata": {},
   "source": [
    "## $\\S$ 3 - Using Ridge Regression \n",
    "\n",
    "In the matrix $X$ depicted earlier, $X_{i1}$ is the column vector of tc values, $X_{i2}$ is the column vector of hdl values, and $X_{i3}$ is the column vector of zdl values.  Play with the size of $\\alpha$ to find a \"sweet spot\" that mitigates the problem of collinearity of columns $X_{i2}$ and $X_{i3}$ without having much effect on the uncorrelated feature tc (column $X_{i0}$).  In other words, look for a value of $\\alpha$ that tamps down wide variation between $w_2$ and $w_3$ without also dragging down $w_1$ excessively."
   ]
  },
  {
   "cell_type": "code",
   "execution_count": 15,
   "metadata": {
    "collapsed": false
   },
   "outputs": [],
   "source": [
    "# fit RidgeRegression models for a range of alpha values\n",
    "from sklearn import linear_model\n",
    "n_alphas = 20\n",
    "alphas = np.logspace(-4, 0, n_alphas)\n",
    "clf = linear_model.Ridge()\n",
    "\n",
    "coefs = []\n",
    "for a in alphas:\n",
    "    clf.set_params(alpha=a)\n",
    "    clf.fit(X, y)\n",
    "    coefs.append(clf.coef_)"
   ]
  },
  {
   "cell_type": "code",
   "execution_count": 16,
   "metadata": {
    "collapsed": true
   },
   "outputs": [],
   "source": [
    "# make an array of each feature's weight for plotting & labeling\n",
    "w1 = np.array(coefs)[:,0]\n",
    "w2 = np.array(coefs)[:,1]\n",
    "w3 = np.array(coefs)[:,2]"
   ]
  },
  {
   "cell_type": "code",
   "execution_count": 17,
   "metadata": {
    "collapsed": false
   },
   "outputs": [
    {
     "data": {
      "text/plain": [
       "<matplotlib.legend.Legend at 0x119796b70>"
      ]
     },
     "execution_count": 17,
     "metadata": {},
     "output_type": "execute_result"
    },
    {
     "data": {
      "image/png": "[encoded data removed]",
      "text/plain": [
       "<matplotlib.figure.Figure at 0x119736e48>"
      ]
     },
     "metadata": {},
     "output_type": "display_data"
    }
   ],
   "source": [
    "# plot each weight versus alpha\n",
    "plt.rcParams[\"figure.figsize\"] = (18,8)\n",
    "\n",
    "plt.plot(alphas, w1, label=r'$w_1$')\n",
    "plt.plot(alphas, w2, label=r'$w_2$')\n",
    "plt.plot(alphas, w3, label=r'$w_3$')\n",
    "\n",
    "plt.xscale('log')\n",
    "plt.xlim(plt.xlim()[::-1])  # reverse axis\n",
    "plt.xlabel(r'$\\alpha$',fontsize='xx-large')\n",
    "plt.ylabel('weights',fontsize='xx-large')\n",
    "plt.legend(fontsize='xx-large',loc='lower left')"
   ]
  },
  {
   "cell_type": "markdown",
   "metadata": {},
   "source": [
    "### A value of $\\alpha$ $\\sim$ 0.01 reduces the large discrepancy between $w_2$ and $w_3$ without much effect on $w_1$ (the weight for tc, which is independent of hdl and zdl)."
   ]
  }
 ],
 "metadata": {
  "kernelspec": {
   "display_name": "Python 3",
   "language": "python",
   "name": "python3"
  },
  "language_info": {
   "codemirror_mode": {
    "name": "ipython",
    "version": 3
   },
   "file_extension": ".py",
   "mimetype": "text/x-python",
   "name": "python",
   "nbconvert_exporter": "python",
   "pygments_lexer": "ipython3",
   "version": "3.5.2"
  }
 },
 "nbformat": 4,
 "nbformat_minor": 0
}
