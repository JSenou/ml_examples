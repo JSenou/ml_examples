{
 "cells": [
  {
   "cell_type": "markdown",
   "metadata": {},
   "source": [
    "# Pima Indian Diabetes Data\n",
    "### Adapted from Pluralsight course \"Understanding Machine Learning with Python\" by Jerry Kurata"
   ]
  },
  {
   "cell_type": "code",
   "execution_count": 45,
   "metadata": {
    "collapsed": true
   },
   "outputs": [],
   "source": [
    "import pandas as pd\n",
    "import matplotlib.pyplot as plt\n",
    "import numpy as np\n",
    "\n",
    "# for inline plotting\n",
    "%matplotlib inline"
   ]
  },
  {
   "cell_type": "markdown",
   "metadata": {},
   "source": [
    "## Load .csv data and review it -- note zero-indexing by Pandas module"
   ]
  },
  {
   "cell_type": "code",
   "execution_count": 46,
   "metadata": {
    "collapsed": true
   },
   "outputs": [],
   "source": [
    "df = pd.read_csv(\"./data/pima-data.csv\")"
   ]
  },
  {
   "cell_type": "code",
   "execution_count": 47,
   "metadata": {
    "collapsed": false,
    "scrolled": true
   },
   "outputs": [
    {
     "data": {
      "text/plain": [
       "(768, 10)"
      ]
     },
     "execution_count": 47,
     "metadata": {},
     "output_type": "execute_result"
    }
   ],
   "source": [
    "df.shape"
   ]
  },
  {
   "cell_type": "code",
   "execution_count": 48,
   "metadata": {
    "collapsed": false
   },
   "outputs": [
    {
     "data": {
      "text/html": [
       "<div>\n",
       "<table border=\"1\" class=\"dataframe\">\n",
       "  <thead>\n",
       "    <tr style=\"text-align: right;\">\n",
       "      <th></th>\n",
       "      <th>num_preg</th>\n",
       "      <th>glucose_conc</th>\n",
       "      <th>diastolic_bp</th>\n",
       "      <th>thickness</th>\n",
       "      <th>insulin</th>\n",
       "      <th>bmi</th>\n",
       "      <th>diab_pred</th>\n",
       "      <th>age</th>\n",
       "      <th>skin</th>\n",
       "      <th>diabetes</th>\n",
       "    </tr>\n",
       "  </thead>\n",
       "  <tbody>\n",
       "    <tr>\n",
       "      <th>0</th>\n",
       "      <td>6</td>\n",
       "      <td>148</td>\n",
       "      <td>72</td>\n",
       "      <td>35</td>\n",
       "      <td>0</td>\n",
       "      <td>33.6</td>\n",
       "      <td>0.627</td>\n",
       "      <td>50</td>\n",
       "      <td>1.3790</td>\n",
       "      <td>True</td>\n",
       "    </tr>\n",
       "    <tr>\n",
       "      <th>1</th>\n",
       "      <td>1</td>\n",
       "      <td>85</td>\n",
       "      <td>66</td>\n",
       "      <td>29</td>\n",
       "      <td>0</td>\n",
       "      <td>26.6</td>\n",
       "      <td>0.351</td>\n",
       "      <td>31</td>\n",
       "      <td>1.1426</td>\n",
       "      <td>False</td>\n",
       "    </tr>\n",
       "    <tr>\n",
       "      <th>2</th>\n",
       "      <td>8</td>\n",
       "      <td>183</td>\n",
       "      <td>64</td>\n",
       "      <td>0</td>\n",
       "      <td>0</td>\n",
       "      <td>23.3</td>\n",
       "      <td>0.672</td>\n",
       "      <td>32</td>\n",
       "      <td>0.0000</td>\n",
       "      <td>True</td>\n",
       "    </tr>\n",
       "    <tr>\n",
       "      <th>3</th>\n",
       "      <td>1</td>\n",
       "      <td>89</td>\n",
       "      <td>66</td>\n",
       "      <td>23</td>\n",
       "      <td>94</td>\n",
       "      <td>28.1</td>\n",
       "      <td>0.167</td>\n",
       "      <td>21</td>\n",
       "      <td>0.9062</td>\n",
       "      <td>False</td>\n",
       "    </tr>\n",
       "    <tr>\n",
       "      <th>4</th>\n",
       "      <td>0</td>\n",
       "      <td>137</td>\n",
       "      <td>40</td>\n",
       "      <td>35</td>\n",
       "      <td>168</td>\n",
       "      <td>43.1</td>\n",
       "      <td>2.288</td>\n",
       "      <td>33</td>\n",
       "      <td>1.3790</td>\n",
       "      <td>True</td>\n",
       "    </tr>\n",
       "  </tbody>\n",
       "</table>\n",
       "</div>"
      ],
      "text/plain": [
       "   num_preg  glucose_conc  diastolic_bp  thickness  insulin   bmi  diab_pred  \\\n",
       "0         6           148            72         35        0  33.6      0.627   \n",
       "1         1            85            66         29        0  26.6      0.351   \n",
       "2         8           183            64          0        0  23.3      0.672   \n",
       "3         1            89            66         23       94  28.1      0.167   \n",
       "4         0           137            40         35      168  43.1      2.288   \n",
       "\n",
       "   age    skin diabetes  \n",
       "0   50  1.3790     True  \n",
       "1   31  1.1426    False  \n",
       "2   32  0.0000     True  \n",
       "3   21  0.9062    False  \n",
       "4   33  1.3790     True  "
      ]
     },
     "execution_count": 48,
     "metadata": {},
     "output_type": "execute_result"
    }
   ],
   "source": [
    "df.head(5)"
   ]
  },
  {
   "cell_type": "markdown",
   "metadata": {},
   "source": [
    "\n",
    "## Check for null values"
   ]
  },
  {
   "cell_type": "code",
   "execution_count": 49,
   "metadata": {
    "collapsed": false
   },
   "outputs": [
    {
     "data": {
      "text/plain": [
       "False"
      ]
     },
     "execution_count": 49,
     "metadata": {},
     "output_type": "execute_result"
    }
   ],
   "source": [
    "df.isnull().values.any()"
   ]
  },
  {
   "cell_type": "markdown",
   "metadata": {},
   "source": [
    "\n",
    "## Check whether any columns are correlated"
   ]
  },
  {
   "cell_type": "code",
   "execution_count": 50,
   "metadata": {
    "collapsed": true
   },
   "outputs": [],
   "source": [
    "def plot_corr(df, size=11):\n",
    "    \"\"\"\n",
    "    Plots correlation matrix for each pair of columns\n",
    "    \n",
    "    Blue-to-red is not-corr (or 0) to correlated (or 1)\n",
    "    \n",
    "    \"\"\"\n",
    "    corr = df.corr()\n",
    "    fig, ax = plt.subplots(figsize = (size,size))\n",
    "    cax = ax.matshow(corr)\n",
    "    fig.colorbar(cax)\n",
    "    plt.xticks(np.arange(len(corr.columns)), corr.columns)\n",
    "    plt.yticks(np.arange(len(corr.columns)), corr.columns)"
   ]
  },
  {
   "cell_type": "code",
   "execution_count": 51,
   "metadata": {
    "collapsed": false
   },
   "outputs": [
    {
     "data": {
      "image/png": "[encoded data removed]",
      "text/plain": [
       "<matplotlib.figure.Figure at 0x119a94048>"
      ]
     },
     "metadata": {},
     "output_type": "display_data"
    }
   ],
   "source": [
    "plot_corr(df)"
   ]
  },
  {
   "cell_type": "markdown",
   "metadata": {},
   "source": [
    "### Clearly the thickness and skin columns are correlated, get rid of one of them"
   ]
  },
  {
   "cell_type": "code",
   "execution_count": 52,
   "metadata": {
    "collapsed": true
   },
   "outputs": [],
   "source": [
    "del df['skin']"
   ]
  },
  {
   "cell_type": "code",
   "execution_count": 53,
   "metadata": {
    "collapsed": false
   },
   "outputs": [
    {
     "data": {
      "text/html": [
       "<div>\n",
       "<table border=\"1\" class=\"dataframe\">\n",
       "  <thead>\n",
       "    <tr style=\"text-align: right;\">\n",
       "      <th></th>\n",
       "      <th>num_preg</th>\n",
       "      <th>glucose_conc</th>\n",
       "      <th>diastolic_bp</th>\n",
       "      <th>thickness</th>\n",
       "      <th>insulin</th>\n",
       "      <th>bmi</th>\n",
       "      <th>diab_pred</th>\n",
       "      <th>age</th>\n",
       "      <th>diabetes</th>\n",
       "    </tr>\n",
       "  </thead>\n",
       "  <tbody>\n",
       "    <tr>\n",
       "      <th>0</th>\n",
       "      <td>6</td>\n",
       "      <td>148</td>\n",
       "      <td>72</td>\n",
       "      <td>35</td>\n",
       "      <td>0</td>\n",
       "      <td>33.6</td>\n",
       "      <td>0.627</td>\n",
       "      <td>50</td>\n",
       "      <td>True</td>\n",
       "    </tr>\n",
       "    <tr>\n",
       "      <th>1</th>\n",
       "      <td>1</td>\n",
       "      <td>85</td>\n",
       "      <td>66</td>\n",
       "      <td>29</td>\n",
       "      <td>0</td>\n",
       "      <td>26.6</td>\n",
       "      <td>0.351</td>\n",
       "      <td>31</td>\n",
       "      <td>False</td>\n",
       "    </tr>\n",
       "    <tr>\n",
       "      <th>2</th>\n",
       "      <td>8</td>\n",
       "      <td>183</td>\n",
       "      <td>64</td>\n",
       "      <td>0</td>\n",
       "      <td>0</td>\n",
       "      <td>23.3</td>\n",
       "      <td>0.672</td>\n",
       "      <td>32</td>\n",
       "      <td>True</td>\n",
       "    </tr>\n",
       "  </tbody>\n",
       "</table>\n",
       "</div>"
      ],
      "text/plain": [
       "   num_preg  glucose_conc  diastolic_bp  thickness  insulin   bmi  diab_pred  \\\n",
       "0         6           148            72         35        0  33.6      0.627   \n",
       "1         1            85            66         29        0  26.6      0.351   \n",
       "2         8           183            64          0        0  23.3      0.672   \n",
       "\n",
       "   age diabetes  \n",
       "0   50     True  \n",
       "1   31    False  \n",
       "2   32     True  "
      ]
     },
     "execution_count": 53,
     "metadata": {},
     "output_type": "execute_result"
    }
   ],
   "source": [
    "df.head(3)"
   ]
  },
  {
   "cell_type": "code",
   "execution_count": 54,
   "metadata": {
    "collapsed": false
   },
   "outputs": [
    {
     "data": {
      "image/png": "[encoded data removed]",
      "text/plain": [
       "<matplotlib.figure.Figure at 0x119b3c4a8>"
      ]
     },
     "metadata": {},
     "output_type": "display_data"
    }
   ],
   "source": [
    "# double-check\n",
    "plot_corr(df)"
   ]
  },
  {
   "cell_type": "markdown",
   "metadata": {
    "collapsed": true
   },
   "source": [
    "## Check Data Types"
   ]
  },
  {
   "cell_type": "code",
   "execution_count": 55,
   "metadata": {
    "collapsed": false
   },
   "outputs": [],
   "source": [
    "# Change last column \"diabetes\" from text to boolean\n",
    "# Easiest to use a Panda map method instead of iterating (nice)\n",
    "diabetes_map = {True: 1, False: 0}\n",
    "df['diabetes'] = df['diabetes'].map(diabetes_map)"
   ]
  },
  {
   "cell_type": "code",
   "execution_count": 56,
   "metadata": {
    "collapsed": false
   },
   "outputs": [
    {
     "name": "stdout",
     "output_type": "stream",
     "text": [
      "Number of True Cases:  268 (34.90%)\n",
      "Number of False Cases:  500 (65.10%)\n"
     ]
    }
   ],
   "source": [
    "num_true = len(df.loc[df['diabetes'] == True])\n",
    "num_false = len(df.loc[df['diabetes'] == False])\n",
    "\n",
    "print(\"Number of True Cases:  {0} ({1:2.2f}%)\".format(num_true, (num_true/(num_true+num_false))*100))\n",
    "print(\"Number of False Cases:  {0} ({1:2.2f}%)\".format(num_false, (num_false/(num_true+num_false))*100))"
   ]
  },
  {
   "cell_type": "markdown",
   "metadata": {},
   "source": [
    "## Split the data \n",
    "70% to train on, 30% to test on"
   ]
  },
  {
   "cell_type": "code",
   "execution_count": 57,
   "metadata": {
    "collapsed": false
   },
   "outputs": [],
   "source": [
    "from sklearn.cross_validation import train_test_split\n",
    "\n",
    "feature_col_names = ['num_preg','glucose_conc','diastolic_bp','thickness','insulin','bmi','diab_pred','age']\n",
    "predicted_class_names = ['diabetes']\n",
    "\n",
    "X = df[feature_col_names].values     # predictor feature columns (8 x m)\n",
    "y = df[predicted_class_names].values # predicted class (1=True, 0=False) column (1 x m)\n",
    "split_test_size = 0.30\n",
    "\n",
    "X_train, X_test, y_train, y_test = train_test_split(X, y, test_size=split_test_size, random_state=42)"
   ]
  },
  {
   "cell_type": "code",
   "execution_count": 58,
   "metadata": {
    "collapsed": false
   },
   "outputs": [
    {
     "data": {
      "text/plain": [
       "((768, 8), (537, 8), (231, 8))"
      ]
     },
     "execution_count": 58,
     "metadata": {},
     "output_type": "execute_result"
    }
   ],
   "source": [
    "X.shape, X_train.shape, X_test.shape"
   ]
  },
  {
   "cell_type": "markdown",
   "metadata": {},
   "source": [
    "Check to ensure actually got the desired 70/30 split"
   ]
  },
  {
   "cell_type": "code",
   "execution_count": 59,
   "metadata": {
    "collapsed": false
   },
   "outputs": [
    {
     "name": "stdout",
     "output_type": "stream",
     "text": [
      "69.92% in training set\n",
      "30.08% in test set\n"
     ]
    }
   ],
   "source": [
    "print(\"{0:0.2f}% in training set\".format( (1.*len(X_train))/len(df.index)*100 ) )\n",
    "print(\"{0:0.2f}% in test set\".format( (1.*len(X_test))/len(df.index)*100 ) )"
   ]
  },
  {
   "cell_type": "markdown",
   "metadata": {},
   "source": [
    "### IMPORTANT: *Within* each category of True/False did-develop-diabetes, did we get a 70/30 split?  "
   ]
  },
  {
   "cell_type": "code",
   "execution_count": 60,
   "metadata": {
    "collapsed": false
   },
   "outputs": [
    {
     "name": "stdout",
     "output_type": "stream",
     "text": [
      "Original True  :  268 (34.90%)\n",
      "Original False :  500 (65.10%)\n",
      "\n",
      "Training True  :  188 (35.01%)\n",
      "Training False :  349 (64.99%)\n",
      "\n",
      "Test True  :  80 (34.63%)\n",
      "Test False :  151 (65.37%)\n"
     ]
    }
   ],
   "source": [
    "print(\"Original True  :  {0} ({1:.2f}%)\".format(len(df.loc[df['diabetes'] == 1]), len(df.loc[df['diabetes'] == 1])/len(df.index)*100. ))\n",
    "print(\"Original False :  {0} ({1:.2f}%)\".format(len(df.loc[df['diabetes'] == 0]), len(df.loc[df['diabetes'] == 0])/len(df.index)*100. ))\n",
    "print('')\n",
    "print(\"Training True  :  {0} ({1:.2f}%)\".format(len(y_train[y_train[:] == 1]), len(y_train[y_train[:] == 1])/len(y_train)*100. ))\n",
    "print(\"Training False :  {0} ({1:.2f}%)\".format(len(y_train[y_train[:] == 0]), len(y_train[y_train[:] == 0])/len(y_train)*100. ))\n",
    "print('')\n",
    "print(\"Test True  :  {0} ({1:.2f}%)\".format(len(y_test[y_test[:] == 1]), len(y_test[y_test[:] == 1])/len(y_test)*100. ))\n",
    "print(\"Test False :  {0} ({1:.2f}%)\".format(len(y_test[y_test[:] == 0]), len(y_test[y_test[:] == 0])/len(y_test)*100. ))"
   ]
  },
  {
   "cell_type": "markdown",
   "metadata": {
    "collapsed": true
   },
   "source": [
    "### Both Training and Test sets follow the original data frame's breakdown of True vs. False cases.\n",
    "## (NOTE:  There is an imbalance between True and False cases within the Training and Test sets.  Keep that in mind, it is addressed later below.)"
   ]
  },
  {
   "cell_type": "markdown",
   "metadata": {},
   "source": [
    "### Missing Values:  Are there hidden missing values?   e.g., missing values now masquerading as zeros?\n",
    "\n",
    "Count how many rows (for each column/feature) have zeros in them"
   ]
  },
  {
   "cell_type": "code",
   "execution_count": 61,
   "metadata": {
    "collapsed": false
   },
   "outputs": [
    {
     "name": "stdout",
     "output_type": "stream",
     "text": [
      "# of total rows in the dataframe:    768\n",
      "# of rows missing for glucose_conc:  5\n",
      "# of rows missing for diastolic_bp:  35\n",
      "# of rows missing for thickness:     227\n",
      "# of rows missing for insulin:       374\n",
      "# of rows missing for bmi:           11\n",
      "# of rows missing for diab_pred:     0\n",
      "# of rows missing for age:           0\n"
     ]
    }
   ],
   "source": [
    "print(\"# of total rows in the dataframe:    {0}\".format(len(df)))\n",
    "print(\"# of rows missing for glucose_conc:  {0}\".format(len(df.loc[df['glucose_conc'] == 0])))\n",
    "print(\"# of rows missing for diastolic_bp:  {0}\".format(len(df.loc[df['diastolic_bp'] == 0])))\n",
    "print(\"# of rows missing for thickness:     {0}\".format(len(df.loc[df['thickness']    == 0])))\n",
    "print(\"# of rows missing for insulin:       {0}\".format(len(df.loc[df['insulin']      == 0])))\n",
    "print(\"# of rows missing for bmi:           {0}\".format(len(df.loc[df['bmi']          == 0])))\n",
    "print(\"# of rows missing for diab_pred:     {0}\".format(len(df.loc[df['diab_pred']    == 0])))\n",
    "print(\"# of rows missing for age:           {0}\".format(len(df.loc[df['age']        == 0])))"
   ]
  },
  {
   "cell_type": "markdown",
   "metadata": {},
   "source": [
    "#### That's too many rows to throw out, so *impute with the mean* where missing"
   ]
  },
  {
   "cell_type": "code",
   "execution_count": 62,
   "metadata": {
    "collapsed": true
   },
   "outputs": [],
   "source": [
    "from sklearn.preprocessing import Imputer\n",
    "\n",
    "# Impute with mean for all 0 readings (columns are axis=0)\n",
    "fill_0 = Imputer(missing_values=0, strategy='mean',axis=0)\n",
    "\n",
    "X_train = fill_0.fit_transform(X_train)\n",
    "X_test = fill_0.fit_transform(X_test)"
   ]
  },
  {
   "cell_type": "markdown",
   "metadata": {},
   "source": [
    "## Train with Naive Bayes algorithm"
   ]
  },
  {
   "cell_type": "markdown",
   "metadata": {},
   "source": [
    "### Assume the features each follow a Gaussian dist around their mean"
   ]
  },
  {
   "cell_type": "code",
   "execution_count": 63,
   "metadata": {
    "collapsed": false
   },
   "outputs": [
    {
     "data": {
      "text/plain": [
       "GaussianNB()"
      ]
     },
     "execution_count": 63,
     "metadata": {},
     "output_type": "execute_result"
    }
   ],
   "source": [
    "from sklearn.naive_bayes import GaussianNB\n",
    "\n",
    "# create a Gaussian Naive Bayes model object and train it\n",
    "nb_model = GaussianNB()\n",
    "\n",
    "nb_model.fit(X_train, y_train.ravel())"
   ]
  },
  {
   "cell_type": "markdown",
   "metadata": {},
   "source": [
    "### Test the model's performance on the *training* data first"
   ]
  },
  {
   "cell_type": "code",
   "execution_count": 64,
   "metadata": {
    "collapsed": false
   },
   "outputs": [
    {
     "name": "stdout",
     "output_type": "stream",
     "text": [
      "Accuracy:  0.7542 \n",
      "\n"
     ]
    }
   ],
   "source": [
    "# predict the values using the training data\n",
    "nb_predict_train = nb_model.predict(X_train)\n",
    "\n",
    "# performance metrics library\n",
    "from sklearn import metrics\n",
    "\n",
    "# Use metrics.accuracy_score to compare y_train (what our model is SUPPOSED to predict from this training data)\n",
    "# versus nb_predict_train (what our model actually predicts from this training data)\n",
    "print(\"Accuracy:  {0:.4f} \\n\".format(metrics.accuracy_score(y_train, nb_predict_train) ))"
   ]
  },
  {
   "cell_type": "markdown",
   "metadata": {},
   "source": [
    "### Okay, how does the model's perform on the test data?"
   ]
  },
  {
   "cell_type": "code",
   "execution_count": 65,
   "metadata": {
    "collapsed": false
   },
   "outputs": [
    {
     "name": "stdout",
     "output_type": "stream",
     "text": [
      "Accuracy:  0.7359 \n",
      "\n"
     ]
    }
   ],
   "source": [
    "# predict the values using the training data\n",
    "nb_predict_test = nb_model.predict(X_test)\n",
    "\n",
    "print(\"Accuracy:  {0:.4f} \\n\".format(metrics.accuracy_score(y_test, nb_predict_test) ))"
   ]
  },
  {
   "cell_type": "markdown",
   "metadata": {},
   "source": [
    "### That was the goal-- at least 70% accuracy at predicting whether likely to develop diabetes . . . but beware!  Look at the Confusion Matrix and compare to what ideal confusion matrix would be for the Test data (in which we already know there are 80 True and 151 False).  \n",
    "### In the Confusion matrix:\n",
    "### Rows are actual values:  Top row is actual true, and bottom row is actual false.\n",
    "### Columns are predicted values:   Left col is predicted true, right col is predicted false.   So the elements are:  \n",
    "TP = True Positive  = the person actually developed diabetes AND was predicted to develop diabetes\n",
    "\n",
    "TN = True Negative  = the person did not develop diabetes and was correctly predicted to NOT develop diabetes \n",
    "\n",
    "FP = False Positive = the person did not develop diabetes BUT was INCORRECTLY predicted to develop diabetes\n",
    "\n",
    "FN = False Negative = the person actually developed diabetes BUT was INCORRECTLY predicted to NOT develop diabetes\n",
    "\n",
    "A \"perfect\" classifier's confusion matrix for our actual 80 True, actual 151 False in the test data set would be:\n",
    "\n",
    "$\\begin{bmatrix} TP & FN \\\\ FP & TN \\end{bmatrix} = \\begin{bmatrix} 80 & 0 \\\\ 0 & 151 \\end{bmatrix}$"
   ]
  },
  {
   "cell_type": "code",
   "execution_count": 66,
   "metadata": {
    "collapsed": false
   },
   "outputs": [
    {
     "name": "stdout",
     "output_type": "stream",
     "text": [
      "Confusion Matrix (set 1=True to upper left, 0=False to lower right)\n"
     ]
    },
    {
     "data": {
      "text/plain": [
       "array([[ 52,  28],\n",
       "       [ 33, 118]])"
      ]
     },
     "execution_count": 66,
     "metadata": {},
     "output_type": "execute_result"
    }
   ],
   "source": [
    "print(\"Confusion Matrix (set 1=True to upper left, 0=False to lower right)\")\n",
    "metrics.confusion_matrix(y_test, nb_predict_test, labels=[1,0])"
   ]
  },
  {
   "cell_type": "markdown",
   "metadata": {},
   "source": [
    "#### So our classifier is not perfect . . . no classifier is, but is it good enough to get us 70% accuracy in predicting likelihood?"
   ]
  },
  {
   "cell_type": "markdown",
   "metadata": {},
   "source": [
    "### Generate a Classification Report to get some more statistics from the confusion matrix"
   ]
  },
  {
   "cell_type": "code",
   "execution_count": 67,
   "metadata": {
    "collapsed": false
   },
   "outputs": [
    {
     "name": "stdout",
     "output_type": "stream",
     "text": [
      "             precision    recall  f1-score   support\n",
      "\n",
      "          1       0.61      0.65      0.63        80\n",
      "          0       0.81      0.78      0.79       151\n",
      "\n",
      "avg / total       0.74      0.74      0.74       231\n",
      "\n"
     ]
    }
   ],
   "source": [
    "print(metrics.classification_report(y_test, nb_predict_test, labels=[1,0]))"
   ]
  },
  {
   "cell_type": "markdown",
   "metadata": {},
   "source": [
    "#### *Recall* is the \"true positive rate\" or the \"sensitivity\":  It is how well the model is correctly predicting diabetes when the individual in fact has diabetes.  That is the number of true positives divided by the total people who in fact have it (true positives + false negatives all actually have diabetes):  \n",
    "\n",
    "$\\mbox{Recall} = \\frac{TP}{TP+FN} = \\frac{52}{52+28} = 0.65$\n",
    "\n",
    "We are 65%, below the desired 70%.  Increasing recall would come through decreasing false negatives (FN).\n",
    "\n",
    "#### *Precision* is a positive predictor value:  It is how often the patient actually had diabetes when the model said they would.  That is the number of true positives divided by the total people we said have it (true positives + false positives = all the people *we said* have diabetes):\n",
    "\n",
    "$\\mbox{Precision} = \\frac{TP}{TP+FP} = \\frac{52}{52+33} = 0.61$\n",
    "\n",
    "Increasing precision would come through decreasing false positives (FP)."
   ]
  },
  {
   "cell_type": "markdown",
   "metadata": {
    "collapsed": true
   },
   "source": [
    "\n",
    "### ENSEMBLE METHOD:  Try Random Forest, which is one Ensemble Method option.\n",
    "#### Advantages:  RF is an ensemble method-- it fits multiple Decision Trees to subsets of the data, so that might perform better than Naive Bayes (and of course a single decision tree).\n",
    "#### Disadvantages:  Even though it is an ensemble method, still have to watch out for overfitting . . . ."
   ]
  },
  {
   "cell_type": "markdown",
   "metadata": {},
   "source": [
    "### Train an RF classifier on the training data-- Note that its hyperparameter oob_score we are setting to True (but turns out not to help, same result if set to False, I checked)"
   ]
  },
  {
   "cell_type": "code",
   "execution_count": 68,
   "metadata": {
    "collapsed": false
   },
   "outputs": [
    {
     "data": {
      "text/plain": [
       "RandomForestClassifier(bootstrap=True, class_weight=None, criterion='gini',\n",
       "            max_depth=None, max_features='auto', max_leaf_nodes=None,\n",
       "            min_samples_leaf=1, min_samples_split=2,\n",
       "            min_weight_fraction_leaf=0.0, n_estimators=10, n_jobs=1,\n",
       "            oob_score=True, random_state=42, verbose=0, warm_start=False)"
      ]
     },
     "execution_count": 68,
     "metadata": {},
     "output_type": "execute_result"
    }
   ],
   "source": [
    "from sklearn.ensemble import RandomForestClassifier\n",
    "rf_model = RandomForestClassifier(random_state=42, oob_score=True)  # Creates a Random Forest object\n",
    "rf_model.fit(X_train,y_train.ravel())"
   ]
  },
  {
   "cell_type": "markdown",
   "metadata": {
    "collapsed": true
   },
   "source": [
    "### Test it out the *training* data"
   ]
  },
  {
   "cell_type": "code",
   "execution_count": 69,
   "metadata": {
    "collapsed": false
   },
   "outputs": [
    {
     "name": "stdout",
     "output_type": "stream",
     "text": [
      "Accuracy:  0.9870 \n",
      "\n"
     ]
    }
   ],
   "source": [
    "# predict the values using the training data\n",
    "rf_predict_train = rf_model.predict(X_train)\n",
    "\n",
    "print(\"Accuracy:  {0:.4f} \\n\".format(metrics.accuracy_score(y_train, rf_predict_train) ))"
   ]
  },
  {
   "cell_type": "markdown",
   "metadata": {},
   "source": [
    "Suspiciously high . . .\n",
    "### Test it out on the *test* data"
   ]
  },
  {
   "cell_type": "code",
   "execution_count": 70,
   "metadata": {
    "collapsed": false
   },
   "outputs": [
    {
     "name": "stdout",
     "output_type": "stream",
     "text": [
      "Accuracy:  0.7100 \n",
      "\n"
     ]
    }
   ],
   "source": [
    "# predict the values using the test data\n",
    "rf_predict_test = rf_model.predict(X_test)\n",
    "\n",
    "print(\"Accuracy:  {0:.4f} \\n\".format(metrics.accuracy_score(y_test, rf_predict_test) ))"
   ]
  },
  {
   "cell_type": "markdown",
   "metadata": {},
   "source": [
    "There should not be such a big drop in performance . . . check the recall"
   ]
  },
  {
   "cell_type": "code",
   "execution_count": 71,
   "metadata": {
    "collapsed": false
   },
   "outputs": [
    {
     "name": "stdout",
     "output_type": "stream",
     "text": [
      "[[ 43  37]\n",
      " [ 30 121]]\n",
      "             precision    recall  f1-score   support\n",
      "\n",
      "          1       0.59      0.54      0.56        80\n",
      "          0       0.77      0.80      0.78       151\n",
      "\n",
      "avg / total       0.70      0.71      0.71       231\n",
      "\n"
     ]
    }
   ],
   "source": [
    "print(metrics.confusion_matrix(y_test, rf_predict_test, labels=[1,0]))\n",
    "print(metrics.classification_report(y_test, rf_predict_test, labels=[1,0]))"
   ]
  },
  {
   "cell_type": "markdown",
   "metadata": {},
   "source": [
    "A Recall of as low as 54% means this random forest model is barely better than a coin flip at predicting who in the test set is likely to develop diabetes. . . \n",
    "\n",
    "Tweaking the RandomForestGenerator is probably not the answer-- already we set the \"out-of-bag\" parameter oob_score=True . . . \n",
    "\n",
    "Get more data?  Not for this research question . . . \n",
    "\n",
    "Cross-Validation (train on different subsamples of the training data set)?  No, RF already *does* that with an ensemble of trees through the training data. . .\n",
    "\n",
    "So, try a different algorithm, with a more tune-able hyperparameter in the event of overfitting:"
   ]
  },
  {
   "cell_type": "markdown",
   "metadata": {},
   "source": [
    "### Logistic Regression"
   ]
  },
  {
   "cell_type": "code",
   "execution_count": 78,
   "metadata": {
    "collapsed": false
   },
   "outputs": [
    {
     "name": "stdout",
     "output_type": "stream",
     "text": [
      "Accuracy:  0.7446 \n",
      "\n",
      "             precision    recall  f1-score   support\n",
      "\n",
      "          1       0.66      0.55      0.60        80\n",
      "          0       0.78      0.85      0.81       151\n",
      "\n",
      "avg / total       0.74      0.74      0.74       231\n",
      "\n"
     ]
    }
   ],
   "source": [
    "from sklearn.linear_model import LogisticRegression\n",
    "\n",
    "# Start out with tune-able hyperparameter C set to 0.7\n",
    "lr_model= LogisticRegression(C=0.7, random_state=42)\n",
    "\n",
    "# Train the model\n",
    "lr_model.fit(X_train,y_train.ravel())\n",
    "\n",
    "# Test the model\n",
    "lr_predict_test = lr_model.predict(X_test)\n",
    "\n",
    "# Run metrics on it\n",
    "print(\"Accuracy:  {0:.4f} \\n\".format(metrics.accuracy_score(y_test, lr_predict_test) ))\n",
    "print(metrics.classification_report(y_test, lr_predict_test, labels=[1,0]))"
   ]
  },
  {
   "cell_type": "markdown",
   "metadata": {},
   "source": [
    "Recall still no better . . . now fiddle with the regularization parameter using a loop"
   ]
  },
  {
   "cell_type": "code",
   "execution_count": 83,
   "metadata": {
    "collapsed": false
   },
   "outputs": [
    {
     "name": "stdout",
     "output_type": "stream",
     "text": [
      "First max val of 0.613 occurred at C = 1.4\n"
     ]
    },
    {
     "data": {
      "text/plain": [
       "<matplotlib.text.Text at 0x119c477f0>"
      ]
     },
     "execution_count": 83,
     "metadata": {},
     "output_type": "execute_result"
    },
    {
     "data": {
      "image/png": "[encoded data removed]",
      "text/plain": [
       "<matplotlib.figure.Figure at 0x119e0a550>"
      ]
     },
     "metadata": {},
     "output_type": "display_data"
    }
   ],
   "source": [
    "# explore hyperparameter C from 0.1 to 5.0 in increments of 0.1\n",
    "C_start = 0.1\n",
    "C_end   = 5.1\n",
    "C_inc   = 0.1\n",
    "C_values, recall_scores = [], []\n",
    "\n",
    "C_val = C_start\n",
    "best_recall_score = 0\n",
    "\n",
    "# loop over C values, keeping track of best recall score\n",
    "while (C_val < C_end):\n",
    "    C_values.append(C_val)\n",
    "    lr_model_loop = LogisticRegression(C = C_val, random_state=42)\n",
    "    lr_model_loop.fit(X_train,y_train.ravel())\n",
    "    lr_predict_loop_test = lr_model_loop.predict(X_test)\n",
    "    \n",
    "    recall_score = metrics.recall_score(y_test, lr_predict_loop_test)\n",
    "    recall_scores.append(recall_score)\n",
    "    if (recall_score > best_recall_score):\n",
    "        best_recall_score = recall_score\n",
    "        best_lr_predict_test = lr_predict_loop_test\n",
    "    \n",
    "    C_val += C_inc\n",
    "    \n",
    "best_score_C_val = C_values[ recall_scores.index( best_recall_score ) ]\n",
    "print(\"First max val of {0:.3f} occurred at C = {1:.1f}\".format(best_recall_score,best_score_C_val))\n",
    "\n",
    "%matplotlib inline\n",
    "plt.rcParams[\"figure.figsize\"] = (16,8)\n",
    "plt.plot(C_values, recall_scores)\n",
    "plt.ylim(0.5,1)\n",
    "plt.xlabel(\"C\")\n",
    "plt.ylabel(\"recall score\")"
   ]
  },
  {
   "cell_type": "markdown",
   "metadata": {},
   "source": [
    "#### Hmmm... this showed that playing with C has some effect . . . but not enough to reach 70%."
   ]
  },
  {
   "cell_type": "markdown",
   "metadata": {},
   "source": [
    "\n",
    "## Unbalanced Classes\n",
    "#### We have 65% diabetes and 35% non-diabetes cases, is that imbalance an issue?  Repeat the previous loop with LogisticRegression hyperparameter class_weight='balanced'"
   ]
  },
  {
   "cell_type": "code",
   "execution_count": 84,
   "metadata": {
    "collapsed": false
   },
   "outputs": [
    {
     "name": "stdout",
     "output_type": "stream",
     "text": [
      "First max val of 0.738 occurred at C = 0.3\n"
     ]
    },
    {
     "data": {
      "text/plain": [
       "<matplotlib.text.Text at 0x119b527b8>"
      ]
     },
     "execution_count": 84,
     "metadata": {},
     "output_type": "execute_result"
    },
    {
     "data": {
      "image/png": "[encoded data removed]",
      "text/plain": [
       "<matplotlib.figure.Figure at 0x119c74470>"
      ]
     },
     "metadata": {},
     "output_type": "display_data"
    }
   ],
   "source": [
    "C_start = 0.1\n",
    "C_end   = 5.0\n",
    "C_inc   = 0.1\n",
    "C_values, recall_scores = [], []\n",
    "\n",
    "C_val = C_start\n",
    "best_recall_score = 0\n",
    "while (C_val < C_end):\n",
    "    C_values.append(C_val)\n",
    "    lr_model_loop = LogisticRegression(C=C_val, class_weight='balanced', random_state=42)\n",
    "    lr_model_loop.fit(X_train,y_train.ravel())\n",
    "    lr_predict_loop_test = lr_model_loop.predict(X_test)\n",
    "    \n",
    "    recall_score = metrics.recall_score(y_test, lr_predict_loop_test)\n",
    "    recall_scores.append(recall_score)\n",
    "    if (recall_score > best_recall_score):\n",
    "        best_recall_score = recall_score\n",
    "        best_lr_predict_test = lr_predict_loop_test\n",
    "    \n",
    "    C_val += C_inc\n",
    "    \n",
    "best_score_C_val = C_values[recall_scores.index(best_recall_score)]\n",
    "print(\"First max val of {0:.3f} occurred at C = {1:.1f}\".format(best_recall_score,best_score_C_val))\n",
    "\n",
    "%matplotlib inline\n",
    "plt.rcParams[\"figure.figsize\"] = (16,8)\n",
    "plt.plot(C_values, recall_scores)\n",
    "plt.title(\"Using class_weight='balanced'\")\n",
    "plt.ylim(0.5,1)\n",
    "plt.xlabel(\"C\")\n",
    "plt.ylabel(\"recall score\")"
   ]
  },
  {
   "cell_type": "markdown",
   "metadata": {},
   "source": [
    "#### Take that best-score C value of 0.3 and use it to re-run a single model now using the class_weight='balanced' hyperparameter"
   ]
  },
  {
   "cell_type": "code",
   "execution_count": 85,
   "metadata": {
    "collapsed": false
   },
   "outputs": [
    {
     "name": "stdout",
     "output_type": "stream",
     "text": [
      "Accuracy:  0.7143 \n",
      "\n",
      "             precision    recall  f1-score   support\n",
      "\n",
      "          1       0.57      0.74      0.64        80\n",
      "          0       0.83      0.70      0.76       151\n",
      "\n",
      "avg / total       0.74      0.71      0.72       231\n",
      "\n"
     ]
    }
   ],
   "source": [
    "lr_model = LogisticRegression(class_weight='balanced', C=best_score_C_val, random_state=42)\n",
    "lr_model.fit(X_train,y_train.ravel())\n",
    "lr_predict_test = lr_model.predict(X_test)\n",
    "\n",
    "# Run metrics on it\n",
    "print(\"Accuracy:  {0:.4f} \\n\".format(metrics.accuracy_score(y_test, lr_predict_test) ))\n",
    "print(metrics.classification_report(y_test, lr_predict_test, labels=[1,0]))"
   ]
  },
  {
   "cell_type": "markdown",
   "metadata": {},
   "source": [
    "Okay, that's good because Recall is now above 70% . . . but, we got best_score_C_val by actually running models on the **test** data.  So to test on a wider set of data is best, and that may mean trading off performance.  Time for . . . \n",
    "## Cross Validation \n",
    "### To clearly re-state the issue and why we are turning to CV, in the previous few cells we chose to dip into our *test* data in order to tune hyperparameter \"C\".  Using CV is one way to guard against the risks of this having \"taught to the test\", because with CV we will be splitting our data multiple times into different train and test batches.  \n",
    "\n",
    "(Doing multiple splits will be better than a single 3-way split of our original data frame into, say, 50% Training data, 25% Validation/Tuning data and 25% Test data.\n",
    "\n",
    "(Reminder:  This is a separate, additional value to doing Cross-validation beyond helping avoid over-fitting.)\n"
   ]
  },
  {
   "cell_type": "markdown",
   "metadata": {},
   "source": [
    "#### K-fold Cross Validation:  divide the Training data into K-fold parts, loop through them, each time one fold is the Validation data, rest is trained on.  Then take the average best value for the tuning parameter."
   ]
  },
  {
   "cell_type": "markdown",
   "metadata": {},
   "source": [
    "Use the \"CV\" version of LogisticsRegression that has this functionality"
   ]
  },
  {
   "cell_type": "markdown",
   "metadata": {},
   "source": [
    "### LogisticRegressionCV"
   ]
  },
  {
   "cell_type": "code",
   "execution_count": 76,
   "metadata": {
    "collapsed": false
   },
   "outputs": [
    {
     "data": {
      "text/plain": [
       "LogisticRegressionCV(Cs=3, class_weight='balanced', cv=10, dual=False,\n",
       "           fit_intercept=True, intercept_scaling=1.0, max_iter=100,\n",
       "           multi_class='ovr', n_jobs=-1, penalty='l2', random_state=42,\n",
       "           refit=True, scoring=None, solver='lbfgs', tol=0.0001, verbose=0)"
      ]
     },
     "execution_count": 76,
     "metadata": {},
     "output_type": "execute_result"
    }
   ],
   "source": [
    "from sklearn.linear_model import LogisticRegressionCV\n",
    "\n",
    "# n_jobs = -1 means use all available cores, to run faster\n",
    "# cv = 10 means make 10-folds within the Training set\n",
    "# Cs = 3 means within each fold, make 3 attempts to find best tuning parameter\n",
    "lr_cv_model = LogisticRegressionCV(n_jobs=-1, random_state=42, Cs=3, cv=10, refit=True, class_weight='balanced')\n",
    "lr_cv_model.fit(X_train, y_train.ravel())"
   ]
  },
  {
   "cell_type": "markdown",
   "metadata": {},
   "source": [
    "### Predict on the Test data"
   ]
  },
  {
   "cell_type": "code",
   "execution_count": 77,
   "metadata": {
    "collapsed": false
   },
   "outputs": [
    {
     "name": "stdout",
     "output_type": "stream",
     "text": [
      "Accuracy:  0.7013 \n",
      "\n",
      "[[ 53  27]\n",
      " [ 42 109]]\n",
      "             precision    recall  f1-score   support\n",
      "\n",
      "          1       0.56      0.66      0.61        80\n",
      "          0       0.80      0.72      0.76       151\n",
      "\n",
      "avg / total       0.72      0.70      0.71       231\n",
      "\n"
     ]
    }
   ],
   "source": [
    "lr_cv_predict_test = lr_cv_model.predict(X_test)\n",
    "\n",
    "# Run metrics on it\n",
    "print(\"Accuracy:  {0:.4f} \\n\".format(metrics.accuracy_score(y_test, lr_cv_predict_test) ))\n",
    "print(metrics.confusion_matrix(y_test, lr_cv_predict_test, labels=[1,0]))\n",
    "print(metrics.classification_report(y_test, lr_cv_predict_test, labels=[1,0]))"
   ]
  },
  {
   "cell_type": "markdown",
   "metadata": {},
   "source": [
    "### NOTE:  This new Recall value of 66% is lower than the 74% above, but this model should perform better across a *wider* range of test data."
   ]
  }
 ],
 "metadata": {
  "kernelspec": {
   "display_name": "Python 3",
   "language": "python",
   "name": "python3"
  },
  "language_info": {
   "codemirror_mode": {
    "name": "ipython",
    "version": 3
   },
   "file_extension": ".py",
   "mimetype": "text/x-python",
   "name": "python",
   "nbconvert_exporter": "python",
   "pygments_lexer": "ipython3",
   "version": "3.5.2"
  }
 },
 "nbformat": 4,
 "nbformat_minor": 0
}
